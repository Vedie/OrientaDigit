       {
 "cells": [
  {
   "cell_type": "markdown",
   "id": "fb49ed59-5a3d-493f-bf68-411a105c050f",
   "metadata": {},
   "source": [
    "# Conception et développement d’une plateforme web intelligente d’aide à l’orientation et au développement de carrière étudiante, basée sur l’analyse de profils et l’intelligence artificielle"
   ]
  },
  {
   "cell_type": "markdown",
   "id": "55ef9b53-86fe-4d57-8764-7dd446dfe6cd",
   "metadata": {},
   "source": [
    "## 0. **Introduction**"
   ]
  },
  {
   "cell_type": "markdown",
   "id": "cea5dbd3-ad42-4b76-8559-2697231870fb",
   "metadata": {},
   "source": [
    "### 0.1 **Mise en contexte**\n",
    "\n",
    "\n",
    "Aujourd’hui, les étudiants sont confrontés à une multitude de choix académiques et professionnels, ce qui rend leur orientation souvent compliquée. Le manque d’informations claires, l’absence d’un accompagnement personnalisé et l’évolution rapide du marché du travail rendent cette prise de décision encore plus difficile.\n",
    "\n",
    "En République Démocratique du Congo, et plus particulièrement à l’Université Protestante au Congo (UPC), l’orientation repose encore sur des méthodes traditionnelles, qui ne prennent pas toujours en compte les aspirations et les compétences spécifiques de chaque étudiant. Beaucoup se retrouvent à choisir une filière ou une carrière sans être réellement sûrs que cela correspond à leurs objectifs et à leurs talents, ce qui peut impacter leur motivation et leur réussite.\n",
    "\n",
    "C’est dans ce contexte que nous avons décidé de créer une plateforme web intelligente pour accompagner les étudiants dans leur orientation et leur développement de carrière. Grâce à l’intelligence artificielle et à l’analyse de profils, notre solution proposera des recommandations personnalisées basées sur les compétences, les centres d’intérêt et les tendances du marché du travail.\n",
    "\n",
    "Notre ambition est de rendre l’orientation plus accessible, plus interactive et surtout plus efficace. Cette plateforme ne s’adressera pas seulement aux étudiants de l’UPC, mais pourra aussi être utilisée dans d’autres universités, permettant ainsi d’aider un maximum d’étudiants à faire des choix éclairés pour leur avenir.\n",
    "\n",
    "\n"
   ]
  },
  {
   "cell_type": "markdown",
   "id": "ed465c14-e44a-409a-bea8-e73dd964eba4",
   "metadata": {},
   "source": [
    "### 0.2 **Problématique**  \n",
    "\n",
    "Durant notre parcours universitaire au sein du département d’intelligence artificielle, option Data Science, à l’Université Protestante au Congo (UPC), nous avons constaté une difficulté majeure qui touche de nombreux étudiants : s’orienter académiquement et professionnellement n’est pas toujours évident. Cette difficulté ne se limite pas à l’UPC, mais concerne aussi d’autres universités en République Démocratique du Congo (RDC).  \n",
    "\n",
    "Tout commence avec le choix d’une filière ou d’une spécialisation. Beaucoup d’étudiants hésitent, se demandant s’ils prennent la bonne décision. Faute d’un accompagnement personnalisé et d’informations claires sur les débouchés réels, ils se retrouvent parfois dans des domaines qui ne leur correspondent pas vraiment, ce qui peut affecter leur motivation et leur réussite.  \n",
    "\n",
    "Mais le problème ne s’arrête pas là. Une fois engagés dans un parcours, la question de l’avenir professionnel se pose :  \n",
    "\n",
    "- Comment être sûr que la formation choisie ouvrira réellement des opportunités ?  \n",
    "- Quelles compétences sont les plus recherchées sur le marché du travail ?  \n",
    "- Comment éviter de se retrouver avec un diplôme qui ne garantit pas une bonne insertion professionnelle ?  \n",
    "\n",
    "Aujourd’hui, avec les avancées en intelligence artificielle, il devient possible de proposer des recommandations adaptées à chaque étudiant, en fonction de ses compétences, de ses centres d’intérêt et des tendances du marché. Pourtant, ces technologies sont encore peu exploitées dans le domaine de l’orientation académique et professionnelle en RDC.  \n",
    "\n",
    "### **Problématique principale**  \n",
    "\n",
    "Nous nous posons alors les questions suivantes :  \n",
    "\n",
    "$$\n",
    "\\begin{aligned}\n",
    "&\\bullet \\text{ Pourquoi l’orientation académique est-elle un défi pour tant d’étudiants ?} \\\\\n",
    "&\\bullet \\text{ Comment peut-on rendre ce processus plus fluide et mieux adapté aux réalités du marché de l’emploi ?} \\\\\n",
    "&\\bullet \\text{ L’intelligence artificielle et l’analyse de profils peuvent-elles réellement aider à mieux guider les étudiants ?} \\\\\n",
    "&\\bullet \\text{ Serait-il possible de concevoir une plateforme web intelligente qui les accompagne efficacement dans leur orientation et leur développement de carrière ?}\n",
    "\\end{aligned}\n",
    "$$  \n",
    "\n",
    "Notre objectif à travers ce projet est donc de créer une solution innovante et accessible qui permettra aux étudiants d’obtenir des conseils personnalisés et de prendre des décisions plus éclairées pour leur avenir.\n"
   ]
  },
  {
   "cell_type": "markdown",
   "id": "b13110a7-07dd-4ca5-8212-ec6482706057",
   "metadata": {},
   "source": [
    "\n",
    "### **0.3 Hypothèses**  \n",
    "\n",
    "Dans le cadre de ce projet, nous formulons les hypothèses suivantes, qui guideront la conception et le développement de la plateforme web intelligente d’aide à l’orientation et au développement de carrière des étudiants :  \n",
    "\n",
    "#### **Hypothèses principales :**  \n",
    "\n",
    "1. **L’orientation académique et professionnelle des étudiants peut être significativement améliorée grâce à l’utilisation de l’intelligence artificielle et de l’analyse des profils.**  \n",
    "   - Nous supposons que l’IA peut analyser les données des étudiants (compétences, centres d’intérêt, résultats académiques, etc.) pour générer des recommandations personnalisées sur les filières à suivre et les carrières possibles.  \n",
    "\n",
    "2. **Une plateforme web interactive et intelligente peut offrir un accompagnement plus personnalisé et accessible aux étudiants, permettant de combler le manque d’outils d’orientation adaptés dans les universités.**  \n",
    "   - L’hypothèse est que la plateforme saura non seulement proposer des conseils mais aussi encourager l’interaction avec les étudiants pour mieux comprendre leurs besoins et affiner les recommandations.  \n",
    "\n",
    "3. **L’adoption de la plateforme par les étudiants et les institutions académiques dépendra de sa capacité à fournir des recommandations pertinentes et adaptées aux réalités du marché du travail.**  \n",
    "   - Nous supposons que pour que la plateforme soit adoptée, les recommandations doivent être alignées avec les tendances actuelles du marché de l’emploi et les besoins spécifiques de chaque étudiant.  \n",
    "\n",
    "4. **L’intégration d’une interface conviviale et d’une base de données robuste est essentielle pour assurer la qualité de l’expérience utilisateur et l’efficacité des recommandations générées par l’IA.**  \n",
    "   - Nous postulons qu’une interface simple, intuitive et un système de gestion de données bien structuré amélioreront l’utilisation de la plateforme et favoriseront son succès auprès des étudiants.  \n",
    "\n",
    "5. **L’extension de la plateforme au-delà de l’UPC, à d’autres universités en RDC et ailleurs, est possible si elle s’avère efficace et suffisamment flexible pour s’adapter à différents contextes académiques.**  \n",
    "   - Nous envisageons que la plateforme puisse être utilisée dans d’autres universités en République Démocratique du Congo, voire à l’international, en tenant compte des spécificités locales.\n",
    "\n",
    "####  **Hypothèses secondaires :**\n",
    "\n",
    "6. **Les étudiants qui utiliseront la plateforme verront une amélioration dans leur capacité à choisir une orientation académique et professionnelle plus alignée avec leurs compétences et aspirations.**  \n",
    "   - Nous supposons que les étudiants qui bénéficient d’un accompagnement personnalisé pourront faire des choix plus éclairés et se sentiront plus motivés dans leur parcours académique.  \n",
    "\n",
    "7. **Le développement de la plateforme peut favoriser une meilleure collaboration entre les établissements académiques et le marché du travail en offrant des recommandations basées sur les besoins réels du marché.**  \n",
    "   - Nous pensons que les recommandations générées par l’IA, basées sur des données actualisées, permettront aux étudiants de mieux se préparer aux exigences du marché du travail.\n",
    "\n",
    "Ces hypothèses serviront de base pour les tests et évaluations à venir dans le projet, et seront confrontées à la réalité des données recueillies durant le développement de la plateforme.\n",
    "```  \n",
    "\n"
   ]
  },
  {
   "cell_type": "markdown",
   "id": "9a9e5638-f82d-4ab4-9bf8-249ed7337ba9",
   "metadata": {},
   "source": [
    "### **0.3 État de la question**\n",
    "\n",
    "Le mathématicien et informaticien Alan Turing (1912-1954), souvent considéré comme l’un des pionniers de l’intelligence artificielle, a ouvert la voie à l’idée que les machines pourraient simuler l’intelligence humaine et aider à résoudre des problèmes complexes. Cette vision trouve aujourd’hui une application concrète dans l’orientation académique et professionnelle, un domaine où les étudiants rencontrent encore de nombreuses difficultés.\n",
    "\n",
    "En effet, le choix d’une filière ou d’une carrière repose souvent sur des informations fragmentées et un accompagnement limité. Certaines initiatives ont tenté d’y remédier en développant des outils technologiques d’orientation, dont voici quelques exemples.\n",
    "\n",
    "- **KASONGO KABULO Emmanuel** (Université de Kinshasa, 2019), dans son mémoire intitulé *\"Développement d’un système d’orientation des étudiants basé sur un algorithme de classification\"*, a mis en place un modèle de recommandation basé sur le machine learning pour aider les étudiants à choisir leur filière en fonction de leurs performances scolaires et intérêts personnels. Son étude a démontré que l’IA pouvait améliorer l’orientation des étudiants, bien que l’implémentation à grande échelle ait été un défi.\n",
    "\n",
    "- **Projet EDUKA, RDC** (2021) : Cette initiative privée vise à offrir aux élèves et étudiants congolais une plateforme en ligne d’orientation académique et de mentorat. Bien que son approche ne repose pas exclusivement sur l’IA, elle met en avant l’importance d’une centralisation des informations et d’un accompagnement interactif.\n",
    "\n",
    "\n",
    "\n",
    "- **ORIENTIA (France, 2020)** : Une plateforme développée par une startup française qui utilise l’intelligence artificielle et le traitement du langage naturel pour recommander des formations et des métiers aux étudiants en fonction de leurs centres d’intérêt et de leurs compétences.\n",
    "\n",
    "- **MYFUTURE.AI (États-Unis, 2018)** : Un projet universitaire qui repose sur un modèle prédictif d’orientation professionnelle, basé sur l’analyse des parcours académiques et des tendances du marché du travail. Ce système utilise des algorithmes de deep learning pour faire correspondre les profils des étudiants aux opportunités professionnelles les plus adaptées.\n",
    "\n",
    "- **UNIVERSITY COMPASS (Nigéria, 2022)** : Une plateforme en ligne visant à aider les étudiants nigérians à mieux choisir leur parcours universitaire en fonction de leurs résultats scolaires et de leurs aspirations professionnelles. Bien qu’elle ne repose pas sur l’intelligence artificielle, elle centralise un grand volume de données académiques et professionnelles.\n",
    "\n",
    "\n",
    "\n",
    "En comparant ces travaux avec notre projet, il ressort que bien que plusieurs initiatives aient déjà tenté d’améliorer l’orientation académique et professionnelle des étudiants, peu d’entre elles prennent en compte **le contexte spécifique des universités congolaises** et l’évolution rapide du marché du travail local. \n",
    "\n",
    "Notre approche se distingue par :  \n",
    "\n",
    "1. **L’intégration de l’intelligence artificielle pour analyser les profils étudiants** et proposer des recommandations personnalisées.  \n",
    "2. **L’adaptation de la plateforme au contexte des universités congolaises et africaines**, avec une prise en compte des filières disponibles et des opportunités professionnelles locales.  \n",
    "3. **Une interface interactive et accessible**, qui ne se limite pas aux résultats scolaires, mais intègre aussi des données sur les aspirations et les compétences des étudiants.  \n",
    "4. **Un système évolutif**, qui pourra être enrichi avec des données du marché du travail pour affiner les recommandations.\n",
    "\n",
    "Ainsi, notre projet ambitionne non seulement de s’inspirer des meilleures pratiques existantes, mais surtout d’innover en proposant une solution **pratique, intelligente et adaptée aux réalités congolaises**.\n",
    "\n"
   ]
  }
 ],
 "metadata": {
  "kernelspec": {
   "display_name": "Python [conda env:rstudio]",
   "language": "python",
   "name": "conda-env-rstudio-py"
  },
  "language_info": {
   "codemirror_mode": {
    "name": "ipython",
    "version": 3
   },
   "file_extension": ".py",
   "mimetype": "text/x-python",
   "name": "python",
   "nbconvert_exporter": "python",
   "pygments_lexer": "ipython3",
   "version": "3.7.1"
  }
 },
 "nbformat": 4,
 "nbformat_minor": 5
}


